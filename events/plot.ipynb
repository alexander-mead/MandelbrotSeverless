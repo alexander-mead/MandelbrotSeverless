{
 "cells": [
  {
   "cell_type": "code",
   "execution_count": null,
   "metadata": {},
   "outputs": [],
   "source": [
    "import numpy as np\n",
    "import requests\n",
    "import matplotlib.pyplot as plt\n",
    "from PIL import Image\n",
    "import io\n",
    "import base64"
   ]
  },
  {
   "cell_type": "code",
   "execution_count": null,
   "metadata": {},
   "outputs": [],
   "source": [
    "headers = {\"Content-Type\": \"application/json\"}\n",
    "\n",
    "data = { \n",
    "    \"real\": \"-0.5\", \n",
    "    \"imag\": \"0.\", \n",
    "    \"size\": \"2.\" ,\n",
    "}\n",
    "\n",
    "r = requests.post(\"http://127.0.0.1:3000/mandelbrot\", headers=headers, json=data)\n",
    "\n",
    "# curl -i -X POST http://127.0.0.1:3000/mandelbrot \\\n",
    "#     -H 'Content-Type: application/json' \\\n",
    "#     --data-binary @- << EOF\n",
    "# { \n",
    "#     \"real\": \"-0.5\", \n",
    "#     \"imag\": \"0.\", \n",
    "#     \"size\": \"2.\" \n",
    "# }\n",
    "\n",
    "print(r)"
   ]
  },
  {
   "cell_type": "code",
   "execution_count": null,
   "metadata": {},
   "outputs": [],
   "source": [
    "\n",
    "\n",
    "incoming_data = r.json()[\"data\"] # This comes in as a string\n",
    "converted_data = bytes(incoming_data, \"utf-8\")\n",
    "#io.BytesIO()\n",
    "#png.decode(\"base64\")\n",
    "image = Image.open(io.BytesIO(converted_data))\n",
    "image.show()"
   ]
  },
  {
   "cell_type": "code",
   "execution_count": null,
   "metadata": {},
   "outputs": [],
   "source": [
    "np.random.seed(10)\n",
    "\n",
    "image = np.random.randn(100, 100)\n",
    "\n",
    "plt.imshow(image)\n",
    "buffer = io.BytesIO()\n",
    "plt.savefig(buffer, format=\"png\") # Place the png as a binary in memory\n",
    "data = buffer.getvalue()\n",
    "data = base64.b64encode(data)\n",
    "data = data.decode()\n",
    "print('Data:', type(data), data[:25])"
   ]
  },
  {
   "cell_type": "code",
   "execution_count": null,
   "metadata": {},
   "outputs": [],
   "source": [
    "file = 'test.html'\n",
    "with open(file, 'w') as f:\n",
    "    print(\"Writing to file:\", file)\n",
    "    f.write(f\"<html><body><img src='data:image/png;base64,{data}'></body></html>\")"
   ]
  }
 ],
 "metadata": {
  "kernelspec": {
   "display_name": "Python 3",
   "language": "python",
   "name": "python3"
  },
  "language_info": {
   "codemirror_mode": {
    "name": "ipython",
    "version": 3
   },
   "file_extension": ".py",
   "mimetype": "text/x-python",
   "name": "python",
   "nbconvert_exporter": "python",
   "pygments_lexer": "ipython3",
   "version": "3.11.2"
  },
  "orig_nbformat": 4
 },
 "nbformat": 4,
 "nbformat_minor": 2
}
